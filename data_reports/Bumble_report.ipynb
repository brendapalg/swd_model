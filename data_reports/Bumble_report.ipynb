{
 "cells": [
  {
   "cell_type": "markdown",
   "metadata": {},
   "source": [
    "# Bumble Dating App - Google Play Store Review"
   ]
  },
  {
   "cell_type": "markdown",
   "metadata": {},
   "source": [
    "This dataset belongs to the Bumble app available on the Google Play Store. It contains user reviews and scores given to the platform."
   ]
  },
  {
   "cell_type": "code",
   "execution_count": 1,
   "metadata": {},
   "outputs": [],
   "source": [
    "# Imports\n",
    "import os\n",
    "import pandas as pd\n",
    "from sklearn.feature_extraction.text import CountVectorizer\n",
    "import matplotlib.pyplot as plt"
   ]
  },
  {
   "cell_type": "code",
   "execution_count": 2,
   "metadata": {},
   "outputs": [],
   "source": [
    "# Custom functions\n",
    "os.chdir(\"..\")\n",
    "import utils.text_utils as tu"
   ]
  },
  {
   "cell_type": "markdown",
   "metadata": {},
   "source": [
    "### Table head"
   ]
  },
  {
   "cell_type": "code",
   "execution_count": 3,
   "metadata": {},
   "outputs": [
    {
     "data": {
      "text/html": [
       "<div>\n",
       "<style scoped>\n",
       "    .dataframe tbody tr th:only-of-type {\n",
       "        vertical-align: middle;\n",
       "    }\n",
       "\n",
       "    .dataframe tbody tr th {\n",
       "        vertical-align: top;\n",
       "    }\n",
       "\n",
       "    .dataframe thead th {\n",
       "        text-align: right;\n",
       "    }\n",
       "</style>\n",
       "<table border=\"1\" class=\"dataframe\">\n",
       "  <thead>\n",
       "    <tr style=\"text-align: right;\">\n",
       "      <th></th>\n",
       "      <th>reviewId</th>\n",
       "      <th>userName</th>\n",
       "      <th>userImage</th>\n",
       "      <th>content</th>\n",
       "      <th>score</th>\n",
       "      <th>thumbsUpCount</th>\n",
       "      <th>reviewCreatedVersion</th>\n",
       "      <th>at</th>\n",
       "      <th>replyContent</th>\n",
       "      <th>repliedAt</th>\n",
       "    </tr>\n",
       "  </thead>\n",
       "  <tbody>\n",
       "    <tr>\n",
       "      <th>0</th>\n",
       "      <td>gp:AOqpTOGCWX1s8NNKNYQ5uMKTqiOTl1wci0EXqB1YMF4...</td>\n",
       "      <td>Javed Sahiad</td>\n",
       "      <td>https://play-lh.googleusercontent.com/a-/AOh14...</td>\n",
       "      <td>Bumble rocks 👍🤞</td>\n",
       "      <td>5</td>\n",
       "      <td>0</td>\n",
       "      <td>5.253.0</td>\n",
       "      <td>2022-03-28 23:33:04</td>\n",
       "      <td>NaN</td>\n",
       "      <td>NaN</td>\n",
       "    </tr>\n",
       "    <tr>\n",
       "      <th>1</th>\n",
       "      <td>gp:AOqpTOFmBlHJLKFu87RU2d-AKSXiIzUd_utDNWBKhsw...</td>\n",
       "      <td>Justin Miller</td>\n",
       "      <td>https://play-lh.googleusercontent.com/a-/AOh14...</td>\n",
       "      <td>Just a cash grab. Congrats you have 2 new like...</td>\n",
       "      <td>1</td>\n",
       "      <td>0</td>\n",
       "      <td>5.262.0</td>\n",
       "      <td>2022-03-28 23:23:30</td>\n",
       "      <td>NaN</td>\n",
       "      <td>NaN</td>\n",
       "    </tr>\n",
       "    <tr>\n",
       "      <th>2</th>\n",
       "      <td>gp:AOqpTOHAcFeMyfgGN_6k7HRCTRwYS2q1mKCA_t5YIkf...</td>\n",
       "      <td>Adam Poots</td>\n",
       "      <td>https://play-lh.googleusercontent.com/a/AATXAJ...</td>\n",
       "      <td>Terrible, l have lost total faith in this app,...</td>\n",
       "      <td>1</td>\n",
       "      <td>15</td>\n",
       "      <td>5.260.0</td>\n",
       "      <td>2022-03-28 23:10:12</td>\n",
       "      <td>Uh oh! We'll need some more account informatio...</td>\n",
       "      <td>2022-02-23 12:33:01</td>\n",
       "    </tr>\n",
       "  </tbody>\n",
       "</table>\n",
       "</div>"
      ],
      "text/plain": [
       "                                            reviewId       userName  \\\n",
       "0  gp:AOqpTOGCWX1s8NNKNYQ5uMKTqiOTl1wci0EXqB1YMF4...   Javed Sahiad   \n",
       "1  gp:AOqpTOFmBlHJLKFu87RU2d-AKSXiIzUd_utDNWBKhsw...  Justin Miller   \n",
       "2  gp:AOqpTOHAcFeMyfgGN_6k7HRCTRwYS2q1mKCA_t5YIkf...     Adam Poots   \n",
       "\n",
       "                                           userImage  \\\n",
       "0  https://play-lh.googleusercontent.com/a-/AOh14...   \n",
       "1  https://play-lh.googleusercontent.com/a-/AOh14...   \n",
       "2  https://play-lh.googleusercontent.com/a/AATXAJ...   \n",
       "\n",
       "                                             content  score  thumbsUpCount  \\\n",
       "0                                    Bumble rocks 👍🤞      5              0   \n",
       "1  Just a cash grab. Congrats you have 2 new like...      1              0   \n",
       "2  Terrible, l have lost total faith in this app,...      1             15   \n",
       "\n",
       "  reviewCreatedVersion                   at  \\\n",
       "0              5.253.0  2022-03-28 23:33:04   \n",
       "1              5.262.0  2022-03-28 23:23:30   \n",
       "2              5.260.0  2022-03-28 23:10:12   \n",
       "\n",
       "                                        replyContent            repliedAt  \n",
       "0                                                NaN                  NaN  \n",
       "1                                                NaN                  NaN  \n",
       "2  Uh oh! We'll need some more account informatio...  2022-02-23 12:33:01  "
      ]
     },
     "execution_count": 3,
     "metadata": {},
     "output_type": "execute_result"
    }
   ],
   "source": [
    "# Load data\n",
    "data = pd.read_csv(\"./data/raw/bumble_google_play_reviews.csv\")\n",
    "data.head(3)"
   ]
  },
  {
   "cell_type": "markdown",
   "metadata": {},
   "source": [
    "## Raw data"
   ]
  },
  {
   "cell_type": "code",
   "execution_count": 4,
   "metadata": {},
   "outputs": [],
   "source": [
    "# Format columns\n",
    "data['at'] = pd.to_datetime(data['at'] )\n",
    "data['score'] = pd.to_numeric(data['score'] )"
   ]
  },
  {
   "cell_type": "markdown",
   "metadata": {},
   "source": [
    "### Data description"
   ]
  },
  {
   "cell_type": "code",
   "execution_count": 5,
   "metadata": {},
   "outputs": [
    {
     "name": "stdout",
     "output_type": "stream",
     "text": [
      "Total comments: 105438\n",
      "Unique users: 95286\n",
      "Period of analysis: 2015-11-29 23:15:25 to 2022-03-28 23:33:04\n",
      "Average rating: 2.829284\n"
     ]
    }
   ],
   "source": [
    "unique_users = len(data['userName'].unique())\n",
    "start_date = data['at'].min()\n",
    "end_date = data['at'].max()\n",
    "avg_rating = data['score'].mean()\n",
    "\n",
    "print(f\"Total comments: {data.shape[0]:d}\")\n",
    "print(f\"Unique users: {unique_users:d}\")\n",
    "print(f\"Period of analysis: {start_date} to {end_date}\")\n",
    "print(f\"Average rating: {avg_rating:2f}\")"
   ]
  },
  {
   "cell_type": "markdown",
   "metadata": {},
   "source": [
    "There are little to none missing values in the data, especially in the columns of interest (at, content, score).\n",
    "Rows with missing **content** will be dropped."
   ]
  },
  {
   "cell_type": "code",
   "execution_count": 9,
   "metadata": {},
   "outputs": [
    {
     "data": {
      "text/plain": [
       "reviewId                 0.000000\n",
       "userName                 0.000000\n",
       "userImage                0.000000\n",
       "content                  0.003794\n",
       "score                    0.000000\n",
       "thumbsUpCount            0.000000\n",
       "reviewCreatedVersion    15.906030\n",
       "at                       0.000000\n",
       "replyContent            41.917525\n",
       "repliedAt               41.917525\n",
       "dtype: float64"
      ]
     },
     "execution_count": 9,
     "metadata": {},
     "output_type": "execute_result"
    }
   ],
   "source": [
    "data.isna().sum()/data.shape[0]*100"
   ]
  },
  {
   "cell_type": "markdown",
   "metadata": {},
   "source": [
    "### Volume of comments by month\n",
    "\n",
    "We will start the analysis from 2015-12-31 since there are only 2 observations for 2015-11-30."
   ]
  },
  {
   "cell_type": "code",
   "execution_count": 22,
   "metadata": {},
   "outputs": [
    {
     "data": {
      "text/plain": [
       "at\n",
       "2015-11-30       1\n",
       "2015-12-31     168\n",
       "2016-01-31     276\n",
       "2016-02-29     313\n",
       "2016-03-31     359\n",
       "              ... \n",
       "2021-11-30    1969\n",
       "2021-12-31    2910\n",
       "2022-01-31    3233\n",
       "2022-02-28    2812\n",
       "2022-03-31    2689\n",
       "Freq: M, Name: content, Length: 77, dtype: int64"
      ]
     },
     "execution_count": 22,
     "metadata": {},
     "output_type": "execute_result"
    }
   ],
   "source": [
    "nComment_trend = data.groupby(by=pd.Grouper(key=\"at\", freq=\"M\"))['content'].count()\n",
    "nComment_trend"
   ]
  },
  {
   "cell_type": "code",
   "execution_count": 16,
   "metadata": {},
   "outputs": [
    {
     "data": {
      "text/plain": [
       "<AxesSubplot:title={'center':'# Comments'}, xlabel='at'>"
      ]
     },
     "execution_count": 16,
     "metadata": {},
     "output_type": "execute_result"
    },
    {
     "data": {
      "image/png": "[encoded data removed]",
      "text/plain": [
       "<Figure size 720x360 with 1 Axes>"
      ]
     },
     "metadata": {
      "needs_background": "light"
     },
     "output_type": "display_data"
    }
   ],
   "source": [
    "plt.figure(figsize=(10,5))\n",
    "plt.title(\"# Comments\")\n",
    "nComment_trend.plot()"
   ]
  },
  {
   "cell_type": "markdown",
   "metadata": {},
   "source": [
    "## Preprocessed data\n",
    "\n",
    "- Filter by date\n",
    "- Select relevant columns\n",
    "- Drop rows with missing values\n",
    "- Format numeric and date columns\n",
    "- Clean textual data:\n",
    "    - To lower\n",
    "    - Remove stopwords, numbers and punctuation\n",
    "    - Lemmatize"
   ]
  },
  {
   "cell_type": "code",
   "execution_count": 30,
   "metadata": {},
   "outputs": [],
   "source": [
    "# Filter by date\n",
    "data = data[data['at']>'2015-12-01']"
   ]
  },
  {
   "cell_type": "code",
   "execution_count": 36,
   "metadata": {},
   "outputs": [
    {
     "name": "stdout",
     "output_type": "stream",
     "text": [
      "Selected columns: ['at', 'score', 'content']\n",
      "Rows dropped: 5\n"
     ]
    }
   ],
   "source": [
    "# Select columns\n",
    "columns = ['at', 'score', 'content']\n",
    "clean_data = data.loc[~data.content.isna(),columns].copy()\n",
    "print(\"Selected columns:\", columns)\n",
    "print(\"Rows dropped:\", len(data)-len(clean_data))"
   ]
  },
  {
   "cell_type": "code",
   "execution_count": 4,
   "metadata": {},
   "outputs": [],
   "source": [
    "# Clean text\n",
    "clean_data['clean_content'] = list(map(lambda x: tu.clean_text(str(x), lemmatize=True), clean_data['content']))\n",
    "\n",
    "# Drop data with missing content after cleaning\n",
    "clean_data.dropna(inplace=True)"
   ]
  },
  {
   "cell_type": "code",
   "execution_count": 20,
   "metadata": {},
   "outputs": [],
   "source": [
    "# Compute sentiment (Sentiment Analysis MVP)\n",
    "opinion_dict = pd.read_csv(\"./data/preprocessed/opinion_dict.csv\")\n",
    "clean_data['sentiment'] = list(map(lambda x: tu.get_sentiment(x, opinion_dict), clean_data['clean_content']))"
   ]
  },
  {
   "cell_type": "code",
   "execution_count": 8,
   "metadata": {},
   "outputs": [
    {
     "data": {
      "text/html": [
       "<div>\n",
       "<style scoped>\n",
       "    .dataframe tbody tr th:only-of-type {\n",
       "        vertical-align: middle;\n",
       "    }\n",
       "\n",
       "    .dataframe tbody tr th {\n",
       "        vertical-align: top;\n",
       "    }\n",
       "\n",
       "    .dataframe thead th {\n",
       "        text-align: right;\n",
       "    }\n",
       "</style>\n",
       "<table border=\"1\" class=\"dataframe\">\n",
       "  <thead>\n",
       "    <tr style=\"text-align: right;\">\n",
       "      <th></th>\n",
       "      <th>at</th>\n",
       "      <th>score</th>\n",
       "      <th>content</th>\n",
       "      <th>clean_content</th>\n",
       "      <th>sentiment</th>\n",
       "    </tr>\n",
       "  </thead>\n",
       "  <tbody>\n",
       "    <tr>\n",
       "      <th>0</th>\n",
       "      <td>2022-03-28 23:33:04</td>\n",
       "      <td>5</td>\n",
       "      <td>Bumble rocks 👍🤞</td>\n",
       "      <td>bumble rock</td>\n",
       "      <td>0.000</td>\n",
       "    </tr>\n",
       "    <tr>\n",
       "      <th>1</th>\n",
       "      <td>2022-03-28 23:23:30</td>\n",
       "      <td>1</td>\n",
       "      <td>Just a cash grab. Congrats you have 2 new like...</td>\n",
       "      <td>cash grab congrats new like let swipe right fi...</td>\n",
       "      <td>0.071</td>\n",
       "    </tr>\n",
       "    <tr>\n",
       "      <th>2</th>\n",
       "      <td>2022-03-28 23:10:12</td>\n",
       "      <td>1</td>\n",
       "      <td>Terrible, l have lost total faith in this app,...</td>\n",
       "      <td>terrible lost total faith app promised contact...</td>\n",
       "      <td>-0.118</td>\n",
       "    </tr>\n",
       "    <tr>\n",
       "      <th>3</th>\n",
       "      <td>2022-03-28 22:28:33</td>\n",
       "      <td>5</td>\n",
       "      <td>Easy to use</td>\n",
       "      <td>easy use</td>\n",
       "      <td>0.500</td>\n",
       "    </tr>\n",
       "    <tr>\n",
       "      <th>4</th>\n",
       "      <td>2022-03-28 22:20:53</td>\n",
       "      <td>1</td>\n",
       "      <td>Just alot of gimmicks, fake profile, and upsal...</td>\n",
       "      <td>alot gimmick fake profile upsales decide delet...</td>\n",
       "      <td>-0.167</td>\n",
       "    </tr>\n",
       "  </tbody>\n",
       "</table>\n",
       "</div>"
      ],
      "text/plain": [
       "                    at  score  \\\n",
       "0  2022-03-28 23:33:04      5   \n",
       "1  2022-03-28 23:23:30      1   \n",
       "2  2022-03-28 23:10:12      1   \n",
       "3  2022-03-28 22:28:33      5   \n",
       "4  2022-03-28 22:20:53      1   \n",
       "\n",
       "                                             content  \\\n",
       "0                                    Bumble rocks 👍🤞   \n",
       "1  Just a cash grab. Congrats you have 2 new like...   \n",
       "2  Terrible, l have lost total faith in this app,...   \n",
       "3                                        Easy to use   \n",
       "4  Just alot of gimmicks, fake profile, and upsal...   \n",
       "\n",
       "                                       clean_content  sentiment  \n",
       "0                                        bumble rock      0.000  \n",
       "1  cash grab congrats new like let swipe right fi...      0.071  \n",
       "2  terrible lost total faith app promised contact...     -0.118  \n",
       "3                                           easy use      0.500  \n",
       "4  alot gimmick fake profile upsales decide delet...     -0.167  "
      ]
     },
     "execution_count": 8,
     "metadata": {},
     "output_type": "execute_result"
    }
   ],
   "source": [
    "#clean_data.to_csv(\"./data/preprocessed/bumble_preprocessed.csv\", index = False)\n",
    "clean_data.head()"
   ]
  },
  {
   "cell_type": "markdown",
   "metadata": {},
   "source": [
    "### Top words"
   ]
  },
  {
   "cell_type": "code",
   "execution_count": 38,
   "metadata": {},
   "outputs": [],
   "source": [
    "vectorizer = CountVectorizer()\n",
    "X = vectorizer.fit_transform(clean_data['clean_content'].values)"
   ]
  },
  {
   "cell_type": "code",
   "execution_count": 25,
   "metadata": {},
   "outputs": [
    {
     "data": {
      "text/html": [
       "<div>\n",
       "<style scoped>\n",
       "    .dataframe tbody tr th:only-of-type {\n",
       "        vertical-align: middle;\n",
       "    }\n",
       "\n",
       "    .dataframe tbody tr th {\n",
       "        vertical-align: top;\n",
       "    }\n",
       "\n",
       "    .dataframe thead th {\n",
       "        text-align: right;\n",
       "    }\n",
       "</style>\n",
       "<table border=\"1\" class=\"dataframe\">\n",
       "  <thead>\n",
       "    <tr style=\"text-align: right;\">\n",
       "      <th></th>\n",
       "      <th>word</th>\n",
       "      <th>count</th>\n",
       "    </tr>\n",
       "  </thead>\n",
       "  <tbody>\n",
       "    <tr>\n",
       "      <th>0</th>\n",
       "      <td>app</td>\n",
       "      <td>48225</td>\n",
       "    </tr>\n",
       "    <tr>\n",
       "      <th>1</th>\n",
       "      <td>match</td>\n",
       "      <td>17842</td>\n",
       "    </tr>\n",
       "    <tr>\n",
       "      <th>2</th>\n",
       "      <td>like</td>\n",
       "      <td>16684</td>\n",
       "    </tr>\n",
       "    <tr>\n",
       "      <th>3</th>\n",
       "      <td>people</td>\n",
       "      <td>14502</td>\n",
       "    </tr>\n",
       "    <tr>\n",
       "      <th>4</th>\n",
       "      <td>get</td>\n",
       "      <td>13403</td>\n",
       "    </tr>\n",
       "    <tr>\n",
       "      <th>5</th>\n",
       "      <td>good</td>\n",
       "      <td>13276</td>\n",
       "    </tr>\n",
       "    <tr>\n",
       "      <th>6</th>\n",
       "      <td>time</td>\n",
       "      <td>11438</td>\n",
       "    </tr>\n",
       "    <tr>\n",
       "      <th>7</th>\n",
       "      <td>bumble</td>\n",
       "      <td>10776</td>\n",
       "    </tr>\n",
       "    <tr>\n",
       "      <th>8</th>\n",
       "      <td>profile</td>\n",
       "      <td>10130</td>\n",
       "    </tr>\n",
       "    <tr>\n",
       "      <th>9</th>\n",
       "      <td>woman</td>\n",
       "      <td>9717</td>\n",
       "    </tr>\n",
       "  </tbody>\n",
       "</table>\n",
       "</div>"
      ],
      "text/plain": [
       "      word  count\n",
       "0      app  48225\n",
       "1    match  17842\n",
       "2     like  16684\n",
       "3   people  14502\n",
       "4      get  13403\n",
       "5     good  13276\n",
       "6     time  11438\n",
       "7   bumble  10776\n",
       "8  profile  10130\n",
       "9    woman   9717"
      ]
     },
     "execution_count": 25,
     "metadata": {},
     "output_type": "execute_result"
    }
   ],
   "source": [
    "word_counts = pd.DataFrame({'word': vectorizer.get_feature_names_out(), 'count': X.toarray().sum(axis=0)})\n",
    "word_counts.sort_values(by='count', ascending=False, inplace=True, ignore_index=True)\n",
    "\n",
    "word_counts.head(10)"
   ]
  }
 ],
 "metadata": {
  "interpreter": {
   "hash": "20b09ccafe47c9724e54cf425e81249888a57fcb9ef8577e8fe39c74ee1d13fc"
  },
  "kernelspec": {
   "display_name": "Python 3.10.4 64-bit ('swd': conda)",
   "name": "python3"
  },
  "language_info": {
   "codemirror_mode": {
    "name": "ipython",
    "version": 3
   },
   "file_extension": ".py",
   "mimetype": "text/x-python",
   "name": "python",
   "nbconvert_exporter": "python",
   "pygments_lexer": "ipython3",
   "version": "3.10.4"
  },
  "orig_nbformat": 4
 },
 "nbformat": 4,
 "nbformat_minor": 2
}
