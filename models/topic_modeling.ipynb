{
 "cells": [
  {
   "cell_type": "markdown",
   "metadata": {},
   "source": [
    "# Topic Modeling (Latent Dirichlet Allocation - LDA)"
   ]
  },
  {
   "cell_type": "code",
   "execution_count": 1,
   "metadata": {},
   "outputs": [],
   "source": [
    "import pandas as pd\n",
    "import gensim\n",
    "import gensim.corpora as corpora\n",
    "import pyLDAvis.gensim_models\n",
    "import pyLDAvis"
   ]
  },
  {
   "cell_type": "code",
   "execution_count": 8,
   "metadata": {},
   "outputs": [
    {
     "data": {
      "text/html": [
       "<div>\n",
       "<style scoped>\n",
       "    .dataframe tbody tr th:only-of-type {\n",
       "        vertical-align: middle;\n",
       "    }\n",
       "\n",
       "    .dataframe tbody tr th {\n",
       "        vertical-align: top;\n",
       "    }\n",
       "\n",
       "    .dataframe thead th {\n",
       "        text-align: right;\n",
       "    }\n",
       "</style>\n",
       "<table border=\"1\" class=\"dataframe\">\n",
       "  <thead>\n",
       "    <tr style=\"text-align: right;\">\n",
       "      <th></th>\n",
       "      <th>at</th>\n",
       "      <th>score</th>\n",
       "      <th>content</th>\n",
       "      <th>clean_content</th>\n",
       "      <th>sentiment</th>\n",
       "    </tr>\n",
       "  </thead>\n",
       "  <tbody>\n",
       "    <tr>\n",
       "      <th>0</th>\n",
       "      <td>2022-03-28 23:33:04</td>\n",
       "      <td>5</td>\n",
       "      <td>Bumble rocks 👍🤞</td>\n",
       "      <td>bumble rock</td>\n",
       "      <td>0.000</td>\n",
       "    </tr>\n",
       "    <tr>\n",
       "      <th>1</th>\n",
       "      <td>2022-03-28 23:23:30</td>\n",
       "      <td>1</td>\n",
       "      <td>Just a cash grab. Congrats you have 2 new like...</td>\n",
       "      <td>cash grab congrats new like let swipe right fi...</td>\n",
       "      <td>0.071</td>\n",
       "    </tr>\n",
       "    <tr>\n",
       "      <th>2</th>\n",
       "      <td>2022-03-28 23:10:12</td>\n",
       "      <td>1</td>\n",
       "      <td>Terrible, l have lost total faith in this app,...</td>\n",
       "      <td>terrible lost total faith app promised contact...</td>\n",
       "      <td>-0.118</td>\n",
       "    </tr>\n",
       "  </tbody>\n",
       "</table>\n",
       "</div>"
      ],
      "text/plain": [
       "                   at  score  \\\n",
       "0 2022-03-28 23:33:04      5   \n",
       "1 2022-03-28 23:23:30      1   \n",
       "2 2022-03-28 23:10:12      1   \n",
       "\n",
       "                                             content  \\\n",
       "0                                    Bumble rocks 👍🤞   \n",
       "1  Just a cash grab. Congrats you have 2 new like...   \n",
       "2  Terrible, l have lost total faith in this app,...   \n",
       "\n",
       "                                       clean_content  sentiment  \n",
       "0                                        bumble rock      0.000  \n",
       "1  cash grab congrats new like let swipe right fi...      0.071  \n",
       "2  terrible lost total faith app promised contact...     -0.118  "
      ]
     },
     "execution_count": 8,
     "metadata": {},
     "output_type": "execute_result"
    }
   ],
   "source": [
    "# Load data\n",
    "clean_data = pd.read_csv(\"../data/preprocessed/bumble_preprocessed.csv\")\n",
    "clean_data['at'] = pd.to_datetime(clean_data['at'] )\n",
    "clean_data['score'] = pd.to_numeric(clean_data['score'] )\n",
    "clean_data.head(3)"
   ]
  },
  {
   "cell_type": "code",
   "execution_count": 7,
   "metadata": {},
   "outputs": [],
   "source": [
    "# Words to remove\n",
    "extra_stopwords = ['app']\n",
    "\n",
    "# Create Dictionary\n",
    "data_words = list(map(lambda x: [w for w in x.split() if w not in extra_stopwords], clean_data['clean_content']))\n",
    "id2word = corpora.Dictionary(data_words) \n",
    "\n",
    "# Term Document Frequency\n",
    "corpus = [id2word.doc2bow(text) for text in data_words]"
   ]
  },
  {
   "cell_type": "code",
   "execution_count": 9,
   "metadata": {},
   "outputs": [],
   "source": [
    "# Build LDA model\n",
    "num_topics = 5\n",
    "lda_model = gensim.models.LdaMulticore(corpus=corpus,\n",
    "                                       id2word=id2word,\n",
    "                                       num_topics=num_topics)\n",
    "\n",
    "# # Save model\n",
    "# model_path = \"./models/ldaModel_topics-\"+str(num_topics)\n",
    "# with open(model_path, 'wb') as f:\n",
    "#     pickle.dump(lda_model, f)"
   ]
  },
  {
   "cell_type": "code",
   "execution_count": 14,
   "metadata": {},
   "outputs": [],
   "source": [
    "# Prepare visualization\n",
    "\n",
    "LDAvis_prepared = pyLDAvis.gensim_models.prepare(lda_model, corpus, id2word)\n",
    "model_path = \"./ldaModelvis_topics-\"+str(num_topics)\n",
    "with open(model_path, 'wb') as f:\n",
    "    pickle.dump(LDAvis_prepared, f)\n",
    "\n",
    "\n",
    "pyLDAvis.enable_notebook()\n",
    "LDAvis_prepared"
   ]
  }
 ],
 "metadata": {
  "interpreter": {
   "hash": "20b09ccafe47c9724e54cf425e81249888a57fcb9ef8577e8fe39c74ee1d13fc"
  },
  "kernelspec": {
   "display_name": "Python 3.10.4 64-bit ('swd': conda)",
   "name": "python3"
  },
  "language_info": {
   "codemirror_mode": {
    "name": "ipython",
    "version": 3
   },
   "file_extension": ".py",
   "mimetype": "text/x-python",
   "name": "python",
   "nbconvert_exporter": "python",
   "pygments_lexer": "ipython3",
   "version": "3.10.4"
  },
  "orig_nbformat": 4
 },
 "nbformat": 4,
 "nbformat_minor": 2
}
